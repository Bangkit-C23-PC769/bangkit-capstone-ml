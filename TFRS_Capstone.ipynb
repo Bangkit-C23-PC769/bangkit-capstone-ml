{
  "nbformat": 4,
  "nbformat_minor": 0,
  "metadata": {
    "colab": {
      "provenance": []
    },
    "kernelspec": {
      "name": "python3",
      "display_name": "Python 3"
    },
    "language_info": {
      "name": "python"
    }
  },
  "cells": [
    {
      "cell_type": "code",
      "source": [
        "!pip install numpy pandas tensorflow"
      ],
      "metadata": {
        "colab": {
          "base_uri": "https://localhost:8080/"
        },
        "id": "NCEhxgeBZRBp",
        "outputId": "18a8aa55-5101-48f2-8415-66b1f68c596a"
      },
      "execution_count": 16,
      "outputs": [
        {
          "output_type": "stream",
          "name": "stdout",
          "text": [
            "Looking in indexes: https://pypi.org/simple, https://us-python.pkg.dev/colab-wheels/public/simple/\n",
            "Requirement already satisfied: numpy in /usr/local/lib/python3.10/dist-packages (1.22.4)\n",
            "Requirement already satisfied: pandas in /usr/local/lib/python3.10/dist-packages (1.5.3)\n",
            "Requirement already satisfied: tensorflow in /usr/local/lib/python3.10/dist-packages (2.12.0)\n",
            "Requirement already satisfied: python-dateutil>=2.8.1 in /usr/local/lib/python3.10/dist-packages (from pandas) (2.8.2)\n",
            "Requirement already satisfied: pytz>=2020.1 in /usr/local/lib/python3.10/dist-packages (from pandas) (2022.7.1)\n",
            "Requirement already satisfied: absl-py>=1.0.0 in /usr/local/lib/python3.10/dist-packages (from tensorflow) (1.4.0)\n",
            "Requirement already satisfied: astunparse>=1.6.0 in /usr/local/lib/python3.10/dist-packages (from tensorflow) (1.6.3)\n",
            "Requirement already satisfied: flatbuffers>=2.0 in /usr/local/lib/python3.10/dist-packages (from tensorflow) (23.3.3)\n",
            "Requirement already satisfied: gast<=0.4.0,>=0.2.1 in /usr/local/lib/python3.10/dist-packages (from tensorflow) (0.4.0)\n",
            "Requirement already satisfied: google-pasta>=0.1.1 in /usr/local/lib/python3.10/dist-packages (from tensorflow) (0.2.0)\n",
            "Requirement already satisfied: grpcio<2.0,>=1.24.3 in /usr/local/lib/python3.10/dist-packages (from tensorflow) (1.54.0)\n",
            "Requirement already satisfied: h5py>=2.9.0 in /usr/local/lib/python3.10/dist-packages (from tensorflow) (3.8.0)\n",
            "Requirement already satisfied: jax>=0.3.15 in /usr/local/lib/python3.10/dist-packages (from tensorflow) (0.4.10)\n",
            "Requirement already satisfied: keras<2.13,>=2.12.0 in /usr/local/lib/python3.10/dist-packages (from tensorflow) (2.12.0)\n",
            "Requirement already satisfied: libclang>=13.0.0 in /usr/local/lib/python3.10/dist-packages (from tensorflow) (16.0.0)\n",
            "Requirement already satisfied: opt-einsum>=2.3.2 in /usr/local/lib/python3.10/dist-packages (from tensorflow) (3.3.0)\n",
            "Requirement already satisfied: packaging in /usr/local/lib/python3.10/dist-packages (from tensorflow) (23.1)\n",
            "Requirement already satisfied: protobuf!=4.21.0,!=4.21.1,!=4.21.2,!=4.21.3,!=4.21.4,!=4.21.5,<5.0.0dev,>=3.20.3 in /usr/local/lib/python3.10/dist-packages (from tensorflow) (3.20.3)\n",
            "Requirement already satisfied: setuptools in /usr/local/lib/python3.10/dist-packages (from tensorflow) (67.7.2)\n",
            "Requirement already satisfied: six>=1.12.0 in /usr/local/lib/python3.10/dist-packages (from tensorflow) (1.16.0)\n",
            "Requirement already satisfied: tensorboard<2.13,>=2.12 in /usr/local/lib/python3.10/dist-packages (from tensorflow) (2.12.2)\n",
            "Requirement already satisfied: tensorflow-estimator<2.13,>=2.12.0 in /usr/local/lib/python3.10/dist-packages (from tensorflow) (2.12.0)\n",
            "Requirement already satisfied: termcolor>=1.1.0 in /usr/local/lib/python3.10/dist-packages (from tensorflow) (2.3.0)\n",
            "Requirement already satisfied: typing-extensions>=3.6.6 in /usr/local/lib/python3.10/dist-packages (from tensorflow) (4.5.0)\n",
            "Requirement already satisfied: wrapt<1.15,>=1.11.0 in /usr/local/lib/python3.10/dist-packages (from tensorflow) (1.14.1)\n",
            "Requirement already satisfied: tensorflow-io-gcs-filesystem>=0.23.1 in /usr/local/lib/python3.10/dist-packages (from tensorflow) (0.32.0)\n",
            "Requirement already satisfied: wheel<1.0,>=0.23.0 in /usr/local/lib/python3.10/dist-packages (from astunparse>=1.6.0->tensorflow) (0.40.0)\n",
            "Requirement already satisfied: ml-dtypes>=0.1.0 in /usr/local/lib/python3.10/dist-packages (from jax>=0.3.15->tensorflow) (0.1.0)\n",
            "Requirement already satisfied: scipy>=1.7 in /usr/local/lib/python3.10/dist-packages (from jax>=0.3.15->tensorflow) (1.10.1)\n",
            "Requirement already satisfied: google-auth<3,>=1.6.3 in /usr/local/lib/python3.10/dist-packages (from tensorboard<2.13,>=2.12->tensorflow) (2.17.3)\n",
            "Requirement already satisfied: google-auth-oauthlib<1.1,>=0.5 in /usr/local/lib/python3.10/dist-packages (from tensorboard<2.13,>=2.12->tensorflow) (1.0.0)\n",
            "Requirement already satisfied: markdown>=2.6.8 in /usr/local/lib/python3.10/dist-packages (from tensorboard<2.13,>=2.12->tensorflow) (3.4.3)\n",
            "Requirement already satisfied: requests<3,>=2.21.0 in /usr/local/lib/python3.10/dist-packages (from tensorboard<2.13,>=2.12->tensorflow) (2.27.1)\n",
            "Requirement already satisfied: tensorboard-data-server<0.8.0,>=0.7.0 in /usr/local/lib/python3.10/dist-packages (from tensorboard<2.13,>=2.12->tensorflow) (0.7.0)\n",
            "Requirement already satisfied: tensorboard-plugin-wit>=1.6.0 in /usr/local/lib/python3.10/dist-packages (from tensorboard<2.13,>=2.12->tensorflow) (1.8.1)\n",
            "Requirement already satisfied: werkzeug>=1.0.1 in /usr/local/lib/python3.10/dist-packages (from tensorboard<2.13,>=2.12->tensorflow) (2.3.0)\n",
            "Requirement already satisfied: cachetools<6.0,>=2.0.0 in /usr/local/lib/python3.10/dist-packages (from google-auth<3,>=1.6.3->tensorboard<2.13,>=2.12->tensorflow) (5.3.0)\n",
            "Requirement already satisfied: pyasn1-modules>=0.2.1 in /usr/local/lib/python3.10/dist-packages (from google-auth<3,>=1.6.3->tensorboard<2.13,>=2.12->tensorflow) (0.3.0)\n",
            "Requirement already satisfied: rsa<5,>=3.1.4 in /usr/local/lib/python3.10/dist-packages (from google-auth<3,>=1.6.3->tensorboard<2.13,>=2.12->tensorflow) (4.9)\n",
            "Requirement already satisfied: requests-oauthlib>=0.7.0 in /usr/local/lib/python3.10/dist-packages (from google-auth-oauthlib<1.1,>=0.5->tensorboard<2.13,>=2.12->tensorflow) (1.3.1)\n",
            "Requirement already satisfied: urllib3<1.27,>=1.21.1 in /usr/local/lib/python3.10/dist-packages (from requests<3,>=2.21.0->tensorboard<2.13,>=2.12->tensorflow) (1.26.15)\n",
            "Requirement already satisfied: certifi>=2017.4.17 in /usr/local/lib/python3.10/dist-packages (from requests<3,>=2.21.0->tensorboard<2.13,>=2.12->tensorflow) (2022.12.7)\n",
            "Requirement already satisfied: charset-normalizer~=2.0.0 in /usr/local/lib/python3.10/dist-packages (from requests<3,>=2.21.0->tensorboard<2.13,>=2.12->tensorflow) (2.0.12)\n",
            "Requirement already satisfied: idna<4,>=2.5 in /usr/local/lib/python3.10/dist-packages (from requests<3,>=2.21.0->tensorboard<2.13,>=2.12->tensorflow) (3.4)\n",
            "Requirement already satisfied: MarkupSafe>=2.1.1 in /usr/local/lib/python3.10/dist-packages (from werkzeug>=1.0.1->tensorboard<2.13,>=2.12->tensorflow) (2.1.2)\n",
            "Requirement already satisfied: pyasn1<0.6.0,>=0.4.6 in /usr/local/lib/python3.10/dist-packages (from pyasn1-modules>=0.2.1->google-auth<3,>=1.6.3->tensorboard<2.13,>=2.12->tensorflow) (0.5.0)\n",
            "Requirement already satisfied: oauthlib>=3.0.0 in /usr/local/lib/python3.10/dist-packages (from requests-oauthlib>=0.7.0->google-auth-oauthlib<1.1,>=0.5->tensorboard<2.13,>=2.12->tensorflow) (3.2.2)\n"
          ]
        }
      ]
    },
    {
      "cell_type": "code",
      "source": [
        "import numpy as np\n",
        "import pandas as pd\n",
        "\n",
        "# Sample dataset\n",
        "data = pd.read_excel('/content/DATASET-STASIUN (1).xlsx')\n",
        "\n",
        "df = pd.DataFrame(data)\n"
      ],
      "metadata": {
        "id": "qu3igGfVZRwc"
      },
      "execution_count": 17,
      "outputs": []
    },
    {
      "cell_type": "code",
      "source": [
        "df"
      ],
      "metadata": {
        "colab": {
          "base_uri": "https://localhost:8080/",
          "height": 424
        },
        "id": "oPelyWS9dCaT",
        "outputId": "7e8c9f01-3ac0-4e4a-dfb7-4084501c6c0b"
      },
      "execution_count": 18,
      "outputs": [
        {
          "output_type": "execute_result",
          "data": {
            "text/plain": [
              "                             NAME                STASIUN  \\\n",
              "0                   STASIUN PORIS                  PORIS   \n",
              "1             STASIUN PONDOK CINA            PONDOK CINA   \n",
              "2   STASIUN UNIVERSITAS INDONESIA  UNIVERSITAS INDONESIA   \n",
              "3                  STASIUN KRANJI                 KRANJI   \n",
              "4            STASIUN BEKASI TIMUR           BEKASI TIMUR   \n",
              "..                            ...                    ...   \n",
              "90                  STASIUN TEBET                  TEBET   \n",
              "91                  STASIUN TENJO                  TENJO   \n",
              "92              STASIUN JAMBUBARU              JAMBUBARU   \n",
              "93                 STASIUN CATANG                 CATANG   \n",
              "94              STASIUN WALANTAKA              WALANTAKA   \n",
              "\n",
              "                                               ALAMAT  LATITUDE  LONGITUDE  \\\n",
              "0                               Jl. Maulana Hasanudin       NaN        NaN   \n",
              "1        Jl. Stasiun Pondok Cina No. 1 Margonda Depok       NaN        NaN   \n",
              "2           Jl. Srengseng Sawah No. 1 Jakarta Selatan       NaN        NaN   \n",
              "3   Jl. Jendral Sudirman No. 1 Bekasi barat Kodya ...       NaN        NaN   \n",
              "4   Jl. Ir. H. Juanda, Duren Jaya, Bekasi Timur, J...       NaN        NaN   \n",
              "..                                                ...       ...        ...   \n",
              "90       Jl. Lapangan Ros No. 1 Tebet Jakarta Selatan       NaN        NaN   \n",
              "91   Jl. Raya Tenjo, Tenjo,  Tenjo, Bogor, Jawa Barat       NaN        NaN   \n",
              "92        Bojong Pandan, Tunjung Teja, Serang, Banten       NaN        NaN   \n",
              "93        Bojong Catang, Tunjung Teja, Serang, Banten       NaN        NaN   \n",
              "94               Tegalsari, Walantaka, Serang, Banten       NaN        NaN   \n",
              "\n",
              "       KECAMATAN  POPULASI KECAMATAN  \n",
              "0      BATUCEPER             16042.0  \n",
              "1           BEJI            171780.0  \n",
              "2           BEJI            171780.0  \n",
              "3   BEKASI BARAT            267638.0  \n",
              "4   BEKASI TIMUR            272320.0  \n",
              "..           ...                 ...  \n",
              "90         TEBET            241014.0  \n",
              "91         TENJO             73845.0  \n",
              "92  TUNJUNG TEJA                 NaN  \n",
              "93  TUNJUNG TEJA                 NaN  \n",
              "94     WALANTAKA                 NaN  \n",
              "\n",
              "[95 rows x 7 columns]"
            ],
            "text/html": [
              "\n",
              "  <div id=\"df-1b4b3f27-9bff-442e-aefa-8b62629ff0f7\">\n",
              "    <div class=\"colab-df-container\">\n",
              "      <div>\n",
              "<style scoped>\n",
              "    .dataframe tbody tr th:only-of-type {\n",
              "        vertical-align: middle;\n",
              "    }\n",
              "\n",
              "    .dataframe tbody tr th {\n",
              "        vertical-align: top;\n",
              "    }\n",
              "\n",
              "    .dataframe thead th {\n",
              "        text-align: right;\n",
              "    }\n",
              "</style>\n",
              "<table border=\"1\" class=\"dataframe\">\n",
              "  <thead>\n",
              "    <tr style=\"text-align: right;\">\n",
              "      <th></th>\n",
              "      <th>NAME</th>\n",
              "      <th>STASIUN</th>\n",
              "      <th>ALAMAT</th>\n",
              "      <th>LATITUDE</th>\n",
              "      <th>LONGITUDE</th>\n",
              "      <th>KECAMATAN</th>\n",
              "      <th>POPULASI KECAMATAN</th>\n",
              "    </tr>\n",
              "  </thead>\n",
              "  <tbody>\n",
              "    <tr>\n",
              "      <th>0</th>\n",
              "      <td>STASIUN PORIS</td>\n",
              "      <td>PORIS</td>\n",
              "      <td>Jl. Maulana Hasanudin</td>\n",
              "      <td>NaN</td>\n",
              "      <td>NaN</td>\n",
              "      <td>BATUCEPER</td>\n",
              "      <td>16042.0</td>\n",
              "    </tr>\n",
              "    <tr>\n",
              "      <th>1</th>\n",
              "      <td>STASIUN PONDOK CINA</td>\n",
              "      <td>PONDOK CINA</td>\n",
              "      <td>Jl. Stasiun Pondok Cina No. 1 Margonda Depok</td>\n",
              "      <td>NaN</td>\n",
              "      <td>NaN</td>\n",
              "      <td>BEJI</td>\n",
              "      <td>171780.0</td>\n",
              "    </tr>\n",
              "    <tr>\n",
              "      <th>2</th>\n",
              "      <td>STASIUN UNIVERSITAS INDONESIA</td>\n",
              "      <td>UNIVERSITAS INDONESIA</td>\n",
              "      <td>Jl. Srengseng Sawah No. 1 Jakarta Selatan</td>\n",
              "      <td>NaN</td>\n",
              "      <td>NaN</td>\n",
              "      <td>BEJI</td>\n",
              "      <td>171780.0</td>\n",
              "    </tr>\n",
              "    <tr>\n",
              "      <th>3</th>\n",
              "      <td>STASIUN KRANJI</td>\n",
              "      <td>KRANJI</td>\n",
              "      <td>Jl. Jendral Sudirman No. 1 Bekasi barat Kodya ...</td>\n",
              "      <td>NaN</td>\n",
              "      <td>NaN</td>\n",
              "      <td>BEKASI BARAT</td>\n",
              "      <td>267638.0</td>\n",
              "    </tr>\n",
              "    <tr>\n",
              "      <th>4</th>\n",
              "      <td>STASIUN BEKASI TIMUR</td>\n",
              "      <td>BEKASI TIMUR</td>\n",
              "      <td>Jl. Ir. H. Juanda, Duren Jaya, Bekasi Timur, J...</td>\n",
              "      <td>NaN</td>\n",
              "      <td>NaN</td>\n",
              "      <td>BEKASI TIMUR</td>\n",
              "      <td>272320.0</td>\n",
              "    </tr>\n",
              "    <tr>\n",
              "      <th>...</th>\n",
              "      <td>...</td>\n",
              "      <td>...</td>\n",
              "      <td>...</td>\n",
              "      <td>...</td>\n",
              "      <td>...</td>\n",
              "      <td>...</td>\n",
              "      <td>...</td>\n",
              "    </tr>\n",
              "    <tr>\n",
              "      <th>90</th>\n",
              "      <td>STASIUN TEBET</td>\n",
              "      <td>TEBET</td>\n",
              "      <td>Jl. Lapangan Ros No. 1 Tebet Jakarta Selatan</td>\n",
              "      <td>NaN</td>\n",
              "      <td>NaN</td>\n",
              "      <td>TEBET</td>\n",
              "      <td>241014.0</td>\n",
              "    </tr>\n",
              "    <tr>\n",
              "      <th>91</th>\n",
              "      <td>STASIUN TENJO</td>\n",
              "      <td>TENJO</td>\n",
              "      <td>Jl. Raya Tenjo, Tenjo,  Tenjo, Bogor, Jawa Barat</td>\n",
              "      <td>NaN</td>\n",
              "      <td>NaN</td>\n",
              "      <td>TENJO</td>\n",
              "      <td>73845.0</td>\n",
              "    </tr>\n",
              "    <tr>\n",
              "      <th>92</th>\n",
              "      <td>STASIUN JAMBUBARU</td>\n",
              "      <td>JAMBUBARU</td>\n",
              "      <td>Bojong Pandan, Tunjung Teja, Serang, Banten</td>\n",
              "      <td>NaN</td>\n",
              "      <td>NaN</td>\n",
              "      <td>TUNJUNG TEJA</td>\n",
              "      <td>NaN</td>\n",
              "    </tr>\n",
              "    <tr>\n",
              "      <th>93</th>\n",
              "      <td>STASIUN CATANG</td>\n",
              "      <td>CATANG</td>\n",
              "      <td>Bojong Catang, Tunjung Teja, Serang, Banten</td>\n",
              "      <td>NaN</td>\n",
              "      <td>NaN</td>\n",
              "      <td>TUNJUNG TEJA</td>\n",
              "      <td>NaN</td>\n",
              "    </tr>\n",
              "    <tr>\n",
              "      <th>94</th>\n",
              "      <td>STASIUN WALANTAKA</td>\n",
              "      <td>WALANTAKA</td>\n",
              "      <td>Tegalsari, Walantaka, Serang, Banten</td>\n",
              "      <td>NaN</td>\n",
              "      <td>NaN</td>\n",
              "      <td>WALANTAKA</td>\n",
              "      <td>NaN</td>\n",
              "    </tr>\n",
              "  </tbody>\n",
              "</table>\n",
              "<p>95 rows × 7 columns</p>\n",
              "</div>\n",
              "      <button class=\"colab-df-convert\" onclick=\"convertToInteractive('df-1b4b3f27-9bff-442e-aefa-8b62629ff0f7')\"\n",
              "              title=\"Convert this dataframe to an interactive table.\"\n",
              "              style=\"display:none;\">\n",
              "        \n",
              "  <svg xmlns=\"http://www.w3.org/2000/svg\" height=\"24px\"viewBox=\"0 0 24 24\"\n",
              "       width=\"24px\">\n",
              "    <path d=\"M0 0h24v24H0V0z\" fill=\"none\"/>\n",
              "    <path d=\"M18.56 5.44l.94 2.06.94-2.06 2.06-.94-2.06-.94-.94-2.06-.94 2.06-2.06.94zm-11 1L8.5 8.5l.94-2.06 2.06-.94-2.06-.94L8.5 2.5l-.94 2.06-2.06.94zm10 10l.94 2.06.94-2.06 2.06-.94-2.06-.94-.94-2.06-.94 2.06-2.06.94z\"/><path d=\"M17.41 7.96l-1.37-1.37c-.4-.4-.92-.59-1.43-.59-.52 0-1.04.2-1.43.59L10.3 9.45l-7.72 7.72c-.78.78-.78 2.05 0 2.83L4 21.41c.39.39.9.59 1.41.59.51 0 1.02-.2 1.41-.59l7.78-7.78 2.81-2.81c.8-.78.8-2.07 0-2.86zM5.41 20L4 18.59l7.72-7.72 1.47 1.35L5.41 20z\"/>\n",
              "  </svg>\n",
              "      </button>\n",
              "      \n",
              "  <style>\n",
              "    .colab-df-container {\n",
              "      display:flex;\n",
              "      flex-wrap:wrap;\n",
              "      gap: 12px;\n",
              "    }\n",
              "\n",
              "    .colab-df-convert {\n",
              "      background-color: #E8F0FE;\n",
              "      border: none;\n",
              "      border-radius: 50%;\n",
              "      cursor: pointer;\n",
              "      display: none;\n",
              "      fill: #1967D2;\n",
              "      height: 32px;\n",
              "      padding: 0 0 0 0;\n",
              "      width: 32px;\n",
              "    }\n",
              "\n",
              "    .colab-df-convert:hover {\n",
              "      background-color: #E2EBFA;\n",
              "      box-shadow: 0px 1px 2px rgba(60, 64, 67, 0.3), 0px 1px 3px 1px rgba(60, 64, 67, 0.15);\n",
              "      fill: #174EA6;\n",
              "    }\n",
              "\n",
              "    [theme=dark] .colab-df-convert {\n",
              "      background-color: #3B4455;\n",
              "      fill: #D2E3FC;\n",
              "    }\n",
              "\n",
              "    [theme=dark] .colab-df-convert:hover {\n",
              "      background-color: #434B5C;\n",
              "      box-shadow: 0px 1px 3px 1px rgba(0, 0, 0, 0.15);\n",
              "      filter: drop-shadow(0px 1px 2px rgba(0, 0, 0, 0.3));\n",
              "      fill: #FFFFFF;\n",
              "    }\n",
              "  </style>\n",
              "\n",
              "      <script>\n",
              "        const buttonEl =\n",
              "          document.querySelector('#df-1b4b3f27-9bff-442e-aefa-8b62629ff0f7 button.colab-df-convert');\n",
              "        buttonEl.style.display =\n",
              "          google.colab.kernel.accessAllowed ? 'block' : 'none';\n",
              "\n",
              "        async function convertToInteractive(key) {\n",
              "          const element = document.querySelector('#df-1b4b3f27-9bff-442e-aefa-8b62629ff0f7');\n",
              "          const dataTable =\n",
              "            await google.colab.kernel.invokeFunction('convertToInteractive',\n",
              "                                                     [key], {});\n",
              "          if (!dataTable) return;\n",
              "\n",
              "          const docLinkHtml = 'Like what you see? Visit the ' +\n",
              "            '<a target=\"_blank\" href=https://colab.research.google.com/notebooks/data_table.ipynb>data table notebook</a>'\n",
              "            + ' to learn more about interactive tables.';\n",
              "          element.innerHTML = '';\n",
              "          dataTable['output_type'] = 'display_data';\n",
              "          await google.colab.output.renderOutput(dataTable, element);\n",
              "          const docLink = document.createElement('div');\n",
              "          docLink.innerHTML = docLinkHtml;\n",
              "          element.appendChild(docLink);\n",
              "        }\n",
              "      </script>\n",
              "    </div>\n",
              "  </div>\n",
              "  "
            ]
          },
          "metadata": {},
          "execution_count": 18
        }
      ]
    },
    {
      "cell_type": "code",
      "source": [
        "from sklearn.preprocessing import LabelEncoder\n",
        "\n",
        "# Encode user and movie IDs\n",
        "user_encoder = LabelEncoder()\n",
        "movie_encoder = LabelEncoder()\n",
        "\n",
        "df['POPULASI KECAMATAN'] = user_encoder.fit_transform(df['POPULASI KECAMATAN'])\n",
        "df['NAME'] = movie_encoder.fit_transform(df['NAME'])\n",
        "\n",
        "num_users = len(user_encoder.classes_)\n",
        "num_movies = len(movie_encoder.classes_)\n"
      ],
      "metadata": {
        "id": "szl18V_QZTMj"
      },
      "execution_count": 19,
      "outputs": []
    },
    {
      "cell_type": "code",
      "source": [
        "import tensorflow as tf\n",
        "from tensorflow.keras.models import Model\n",
        "from tensorflow.keras.layers import Input, Embedding, Dot, Flatten\n",
        "\n",
        "# Define model architecture\n",
        "user_input = Input(shape=(1,))\n",
        "movie_input = Input(shape=(1,))\n",
        "\n",
        "user_embedding = Embedding(num_users, 10)(user_input)\n",
        "movie_embedding = Embedding(num_movies, 10)(movie_input)\n",
        "\n",
        "user_vec = Flatten()(user_embedding)\n",
        "movie_vec = Flatten()(movie_embedding)\n",
        "\n",
        "dot_product = Dot(axes=1)([user_vec, movie_vec])\n",
        "\n",
        "model = Model(inputs=[user_input, movie_input], outputs=dot_product)\n",
        "model.compile(loss='mse', optimizer='adam')\n"
      ],
      "metadata": {
        "id": "iMnbt5T8ZUIL"
      },
      "execution_count": 20,
      "outputs": []
    },
    {
      "cell_type": "code",
      "source": [
        "# Train the model\n",
        "POPULASI_KECAMATANs = df['POPULASI KECAMATAN'].values\n",
        "NAMEs = df['NAME'].values\n",
        "ratings = df['POPULASI KECAMATAN'].values\n",
        "\n",
        "model.fit([POPULASI_KECAMATANs, NAMEs], ratings, epochs=10, batch_size=2)\n"
      ],
      "metadata": {
        "colab": {
          "base_uri": "https://localhost:8080/"
        },
        "id": "GcgZpZsZZU57",
        "outputId": "2d5bfb9b-f0d1-4692-b205-818fcf47c6ef"
      },
      "execution_count": 23,
      "outputs": [
        {
          "output_type": "stream",
          "name": "stdout",
          "text": [
            "Epoch 1/10\n",
            "48/48 [==============================] - 1s 3ms/step - loss: 759.9724\n",
            "Epoch 2/10\n",
            "48/48 [==============================] - 0s 3ms/step - loss: 759.8419\n",
            "Epoch 3/10\n",
            "48/48 [==============================] - 0s 3ms/step - loss: 759.6631\n",
            "Epoch 4/10\n",
            "48/48 [==============================] - 0s 3ms/step - loss: 759.3787\n",
            "Epoch 5/10\n",
            "48/48 [==============================] - 0s 3ms/step - loss: 758.9274\n",
            "Epoch 6/10\n",
            "48/48 [==============================] - 0s 3ms/step - loss: 758.2320\n",
            "Epoch 7/10\n",
            "48/48 [==============================] - 0s 4ms/step - loss: 757.2600\n",
            "Epoch 8/10\n",
            "48/48 [==============================] - 0s 2ms/step - loss: 755.9564\n",
            "Epoch 9/10\n",
            "48/48 [==============================] - 0s 3ms/step - loss: 754.3341\n",
            "Epoch 10/10\n",
            "48/48 [==============================] - 0s 2ms/step - loss: 752.4448\n"
          ]
        },
        {
          "output_type": "execute_result",
          "data": {
            "text/plain": [
              "<keras.callbacks.History at 0x7f4478667f70>"
            ]
          },
          "metadata": {},
          "execution_count": 23
        }
      ]
    },
    {
      "cell_type": "code",
      "source": [
        "# Make predictions\n",
        "NAME = np.array([0])\n",
        "POPULASI_KECAMATAN = np.array([1])\n",
        "\n",
        "prediction = model.predict([NAME, POPULASI_KECAMATAN])\n",
        "print(f\"Predicted rating for Station Name and Population: {prediction[0][0]}\")\n"
      ],
      "metadata": {
        "colab": {
          "base_uri": "https://localhost:8080/"
        },
        "id": "wUjjmh7eZWPL",
        "outputId": "f350894d-7d0f-4c7b-cd41-f5a68babe976"
      },
      "execution_count": 24,
      "outputs": [
        {
          "output_type": "stream",
          "name": "stdout",
          "text": [
            "1/1 [==============================] - 0s 67ms/step\n",
            "Predicted rating for Station Name and Population: 0.0013758344575762749\n"
          ]
        }
      ]
    },
    {
      "cell_type": "code",
      "source": [
        "# Generate recommendations for a user\n",
        "NAME = np.array([0])  # User1\n",
        "POPULASI_KECAMATANs = np.arange(num_movies)  # All movies\n",
        "\n",
        "\n",
        "NAMEs = np.repeat(NAME, num_movies)\n",
        "predictions = model.predict([NAMEs, POPULASI_KECAMATANs])\n",
        "\n",
        "sorted_indices = np.argsort(predictions, axis=0)[::-1].flatten()\n",
        "\n",
        "top_n = 3\n",
        "recommended_movies = movie_encoder.inverse_transform(sorted_indices[:top_n])\n",
        "\n",
        "print(f\"Top {top_n} movie recommendations for User1:\")\n",
        "for movie in recommended_movies:\n",
        "    print(movie)\n"
      ],
      "metadata": {
        "colab": {
          "base_uri": "https://localhost:8080/"
        },
        "id": "OsNuS1rCZye-",
        "outputId": "538e4207-eeba-4f4b-deba-8c96c24317ba"
      },
      "execution_count": 25,
      "outputs": [
        {
          "output_type": "stream",
          "name": "stdout",
          "text": [
            "3/3 [==============================] - 0s 3ms/step\n",
            "Top 3 movie recommendations for User1:\n",
            "STASIUN CAWANG\n",
            "STASIUN MANGGARAI\n",
            "STASIUN TEBET\n"
          ]
        }
      ]
    },
    {
      "cell_type": "code",
      "source": [
        "# Save the model\n",
        "model.save('recommender_model.h5')"
      ],
      "metadata": {
        "id": "52W2rJxLZ1ZC"
      },
      "execution_count": 26,
      "outputs": []
    }
  ]
}